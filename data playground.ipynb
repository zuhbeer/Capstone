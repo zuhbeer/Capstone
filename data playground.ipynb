{
 "cells": [
  {
   "cell_type": "code",
   "execution_count": 424,
   "metadata": {},
   "outputs": [],
   "source": [
    "import scipy.stats as stats\n",
    "import numpy as np\n",
    "import matplotlib.pyplot as plt\n",
    "%matplotlib inline\n",
    "import pandas as pd\n",
    "from numpy.polynomial.polynomial import polyfit"
   ]
  },
  {
   "cell_type": "code",
   "execution_count": 3,
   "metadata": {},
   "outputs": [],
   "source": [
    "NumD = ([7,5,5,13,4,2,3,3,13,4,23,59,9,84,5,103])\n",
    "Year = ([1980,1981,1981,1983,1986,1989,1989,1989,1998,1999,2001,2005,2007,2008,2010,2017])"
   ]
  },
  {
   "cell_type": "markdown",
   "metadata": {},
   "source": [
    "https://www.wpc.ncep.noaa.gov/research/txhur.pdf\n",
    "https://en.wikipedia.org/wiki/List_of_Texas_hurricanes_(1980%E2%80%93present)"
   ]
  },
  {
   "cell_type": "code",
   "execution_count": 240,
   "metadata": {},
   "outputs": [
    {
     "data": {
      "text/plain": [
       "Text(0.5, 1.0, 'Known Deaths From Tropical Storms in Texas')"
      ]
     },
     "execution_count": 240,
     "metadata": {},
     "output_type": "execute_result"
    },
    {
     "data": {
      "image/png": "[encoded data removed]",
      "text/plain": [
       "<Figure size 432x288 with 1 Axes>"
      ]
     },
     "metadata": {
      "needs_background": "light"
     },
     "output_type": "display_data"
    }
   ],
   "source": [
    "plt.plot(Year,NumD)\n",
    "plt.ylabel('Deaths')\n",
    "plt.xlabel('Year')\n",
    "plt.title('Known Deaths From Tropical Storms in Texas')"
   ]
  },
  {
   "cell_type": "code",
   "execution_count": 269,
   "metadata": {},
   "outputs": [],
   "source": [
    "data=pd.read_csv('Basin.NA.ibtracs_wmo.v03r10.csv')"
   ]
  },
  {
   "cell_type": "code",
   "execution_count": 270,
   "metadata": {},
   "outputs": [],
   "source": [
    "storms = pd.DataFrame(data)"
   ]
  },
  {
   "cell_type": "code",
   "execution_count": 308,
   "metadata": {},
   "outputs": [
    {
     "data": {
      "text/html": [
       "<div>\n",
       "<style scoped>\n",
       "    .dataframe tbody tr th:only-of-type {\n",
       "        vertical-align: middle;\n",
       "    }\n",
       "\n",
       "    .dataframe tbody tr th {\n",
       "        vertical-align: top;\n",
       "    }\n",
       "\n",
       "    .dataframe thead th {\n",
       "        text-align: right;\n",
       "    }\n",
       "</style>\n",
       "<table border=\"1\" class=\"dataframe\">\n",
       "  <thead>\n",
       "    <tr style=\"text-align: right;\">\n",
       "      <th></th>\n",
       "      <th>Serial_Num</th>\n",
       "      <th>Season</th>\n",
       "      <th>Num</th>\n",
       "      <th>Basin</th>\n",
       "      <th>Sub_basin</th>\n",
       "      <th>Name</th>\n",
       "      <th>ISO_time</th>\n",
       "      <th>Nature</th>\n",
       "      <th>Latitude</th>\n",
       "      <th>Longitude</th>\n",
       "      <th>Wind(WMO)</th>\n",
       "      <th>Pres(WMO)</th>\n",
       "      <th>Center</th>\n",
       "      <th>Wind(WMO) Percentile</th>\n",
       "      <th>Pres(WMO) Percentile</th>\n",
       "      <th>Track_type</th>\n",
       "    </tr>\n",
       "  </thead>\n",
       "  <tbody>\n",
       "    <tr>\n",
       "      <th>0</th>\n",
       "      <td>1851175N26270</td>\n",
       "      <td>1851</td>\n",
       "      <td>1</td>\n",
       "      <td>NA</td>\n",
       "      <td>GM</td>\n",
       "      <td>UNNAMED</td>\n",
       "      <td>1851-06-25 00:00:00</td>\n",
       "      <td>TS</td>\n",
       "      <td>28.0</td>\n",
       "      <td>-94.8</td>\n",
       "      <td>80.0</td>\n",
       "      <td>0.0</td>\n",
       "      <td>atcf</td>\n",
       "      <td>85.15</td>\n",
       "      <td>-100.0</td>\n",
       "      <td>main</td>\n",
       "    </tr>\n",
       "    <tr>\n",
       "      <th>1</th>\n",
       "      <td>1851175N26270</td>\n",
       "      <td>1851</td>\n",
       "      <td>1</td>\n",
       "      <td>NA</td>\n",
       "      <td>GM</td>\n",
       "      <td>UNNAMED</td>\n",
       "      <td>1851-06-25 06:00:00</td>\n",
       "      <td>TS</td>\n",
       "      <td>28.0</td>\n",
       "      <td>-95.4</td>\n",
       "      <td>80.0</td>\n",
       "      <td>0.0</td>\n",
       "      <td>atcf</td>\n",
       "      <td>85.15</td>\n",
       "      <td>-100.0</td>\n",
       "      <td>main</td>\n",
       "    </tr>\n",
       "    <tr>\n",
       "      <th>2</th>\n",
       "      <td>1851175N26270</td>\n",
       "      <td>1851</td>\n",
       "      <td>1</td>\n",
       "      <td>NA</td>\n",
       "      <td>GM</td>\n",
       "      <td>UNNAMED</td>\n",
       "      <td>1851-06-25 12:00:00</td>\n",
       "      <td>TS</td>\n",
       "      <td>28.0</td>\n",
       "      <td>-96.0</td>\n",
       "      <td>80.0</td>\n",
       "      <td>0.0</td>\n",
       "      <td>atcf</td>\n",
       "      <td>85.15</td>\n",
       "      <td>-100.0</td>\n",
       "      <td>main</td>\n",
       "    </tr>\n",
       "    <tr>\n",
       "      <th>3</th>\n",
       "      <td>1851175N26270</td>\n",
       "      <td>1851</td>\n",
       "      <td>1</td>\n",
       "      <td>NA</td>\n",
       "      <td>GM</td>\n",
       "      <td>UNNAMED</td>\n",
       "      <td>1851-06-25 18:00:00</td>\n",
       "      <td>TS</td>\n",
       "      <td>28.1</td>\n",
       "      <td>-96.5</td>\n",
       "      <td>80.0</td>\n",
       "      <td>0.0</td>\n",
       "      <td>atcf</td>\n",
       "      <td>85.15</td>\n",
       "      <td>-100.0</td>\n",
       "      <td>main</td>\n",
       "    </tr>\n",
       "    <tr>\n",
       "      <th>4</th>\n",
       "      <td>1851175N26270</td>\n",
       "      <td>1851</td>\n",
       "      <td>1</td>\n",
       "      <td>NA</td>\n",
       "      <td>GM</td>\n",
       "      <td>UNNAMED</td>\n",
       "      <td>1851-06-25 21:00:00</td>\n",
       "      <td>TS</td>\n",
       "      <td>28.2</td>\n",
       "      <td>-96.8</td>\n",
       "      <td>80.0</td>\n",
       "      <td>0.0</td>\n",
       "      <td>atcf</td>\n",
       "      <td>85.15</td>\n",
       "      <td>-100.0</td>\n",
       "      <td>main</td>\n",
       "    </tr>\n",
       "  </tbody>\n",
       "</table>\n",
       "</div>"
      ],
      "text/plain": [
       "      Serial_Num  Season  Num Basin Sub_basin     Name             ISO_time  \\\n",
       "0  1851175N26270    1851    1    NA        GM  UNNAMED  1851-06-25 00:00:00   \n",
       "1  1851175N26270    1851    1    NA        GM  UNNAMED  1851-06-25 06:00:00   \n",
       "2  1851175N26270    1851    1    NA        GM  UNNAMED  1851-06-25 12:00:00   \n",
       "3  1851175N26270    1851    1    NA        GM  UNNAMED  1851-06-25 18:00:00   \n",
       "4  1851175N26270    1851    1    NA        GM  UNNAMED  1851-06-25 21:00:00   \n",
       "\n",
       "  Nature  Latitude  Longitude  Wind(WMO)  Pres(WMO) Center  \\\n",
       "0     TS      28.0      -94.8       80.0        0.0   atcf   \n",
       "1     TS      28.0      -95.4       80.0        0.0   atcf   \n",
       "2     TS      28.0      -96.0       80.0        0.0   atcf   \n",
       "3     TS      28.1      -96.5       80.0        0.0   atcf   \n",
       "4     TS      28.2      -96.8       80.0        0.0   atcf   \n",
       "\n",
       "   Wind(WMO) Percentile  Pres(WMO) Percentile Track_type  \n",
       "0                 85.15                -100.0       main  \n",
       "1                 85.15                -100.0       main  \n",
       "2                 85.15                -100.0       main  \n",
       "3                 85.15                -100.0       main  \n",
       "4                 85.15                -100.0       main  "
      ]
     },
     "execution_count": 308,
     "metadata": {},
     "output_type": "execute_result"
    }
   ],
   "source": [
    "storms.head()"
   ]
  },
  {
   "cell_type": "code",
   "execution_count": 701,
   "metadata": {},
   "outputs": [
    {
     "data": {
      "text/plain": [
       "(3548, 15)"
      ]
     },
     "execution_count": 701,
     "metadata": {},
     "output_type": "execute_result"
    }
   ],
   "source": [
    "alldata=pd.read_csv('Allstorms.ibtracs_wmo.v03r10.csv')\n",
    "allstorms = pd.DataFrame(alldata)\n",
    "stormsglobal = allstorms[(allstorms['Season'] >= 1969) & (allstorms['Wind(WMO)'] >= 34)]\n",
    "stormsglobaly = stormsglobal.groupby(['Serial_Num']).max()\n",
    "stormsglobaly.shape"
   ]
  },
  {
   "cell_type": "markdown",
   "metadata": {},
   "source": [
    "Tropical cyclones can be categorized by intensity. Tropical storms have one-minute maximum sustained winds of at least 39 mph (34 knots, 17 m/s, 63 km/h), while hurricanes have one-minute maximum sustained winds exceeding 74 mph (64 knots, 33 m/s, 119 km/h)"
   ]
  },
  {
   "cell_type": "code",
   "execution_count": 702,
   "metadata": {},
   "outputs": [
    {
     "data": {
      "text/plain": [
       "Text(0.5, 1.0, 'Storm Intensity Worldwide')"
      ]
     },
     "execution_count": 702,
     "metadata": {},
     "output_type": "execute_result"
    },
    {
     "data": {
      "image/png": "[encoded data removed]",
      "text/plain": [
       "<Figure size 432x288 with 1 Axes>"
      ]
     },
     "metadata": {
      "needs_background": "light"
     },
     "output_type": "display_data"
    }
   ],
   "source": [
    "x = stormsglobaly['Season']\n",
    "y = stormsglobaly['Wind(WMO)']\n",
    "b, m = polyfit(x,y,1)\n",
    "plt.plot(x,y,'.')\n",
    "#plt.plot(x, b + m * x, '-')\n",
    "plt.ylabel('Wind Speed in Knots')\n",
    "plt.xlabel('Year')\n",
    "plt.title('Storm Intensity Worldwide')"
   ]
  },
  {
   "cell_type": "code",
   "execution_count": 693,
   "metadata": {},
   "outputs": [
    {
     "data": {
      "text/plain": [
       "Text(0.5, 1.0, 'Frequency of Tropical Cyclones Worldwide')"
      ]
     },
     "execution_count": 693,
     "metadata": {},
     "output_type": "execute_result"
    },
    {
     "data": {
      "image/png": "[encoded data removed]",
      "text/plain": [
       "<Figure size 432x288 with 1 Axes>"
      ]
     },
     "metadata": {
      "needs_background": "light"
     },
     "output_type": "display_data"
    }
   ],
   "source": [
    "stormsglobaly['Season'].hist(bins=40)\n",
    "plt.ylabel('Storms')\n",
    "plt.xlabel('Year')\n",
    "plt.title('Frequency of Tropical Cyclones Worldwide')"
   ]
  },
  {
   "cell_type": "code",
   "execution_count": 346,
   "metadata": {},
   "outputs": [],
   "source": []
  },
  {
   "cell_type": "code",
   "execution_count": 347,
   "metadata": {},
   "outputs": [],
   "source": []
  },
  {
   "cell_type": "code",
   "execution_count": 694,
   "metadata": {},
   "outputs": [],
   "source": [
    "stormsNA = storms[(storms['Season'] >= 1969) & (storms['Wind(WMO)'] >= 34)]"
   ]
  },
  {
   "cell_type": "markdown",
   "metadata": {},
   "source": [
    "The cell above selects storms past a certain year and wind measured to 64 knots, the metric used to define a category 1 storm/hurricane"
   ]
  },
  {
   "cell_type": "code",
   "execution_count": 695,
   "metadata": {},
   "outputs": [
    {
     "data": {
      "text/plain": [
       "(12760, 16)"
      ]
     },
     "execution_count": 695,
     "metadata": {},
     "output_type": "execute_result"
    }
   ],
   "source": [
    "stormsNA.shape"
   ]
  },
  {
   "cell_type": "code",
   "execution_count": 696,
   "metadata": {},
   "outputs": [],
   "source": [
    "stormsNA1 = stormsNA.groupby(['Serial_Num']).max()"
   ]
  },
  {
   "cell_type": "markdown",
   "metadata": {},
   "source": [
    "The cell above groups the data by Storm, and its max reported wind speed."
   ]
  },
  {
   "cell_type": "code",
   "execution_count": 697,
   "metadata": {},
   "outputs": [
    {
     "data": {
      "text/plain": [
       "(575, 15)"
      ]
     },
     "execution_count": 697,
     "metadata": {},
     "output_type": "execute_result"
    }
   ],
   "source": [
    "stormsNA1.shape"
   ]
  },
  {
   "cell_type": "code",
   "execution_count": 698,
   "metadata": {},
   "outputs": [
    {
     "data": {
      "text/plain": [
       "Text(0.5, 1.0, 'Storm intensity over the N.Atlantic')"
      ]
     },
     "execution_count": 698,
     "metadata": {},
     "output_type": "execute_result"
    },
    {
     "data": {
      "image/png": "[encoded data removed]",
      "text/plain": [
       "<Figure size 432x288 with 1 Axes>"
      ]
     },
     "metadata": {
      "needs_background": "light"
     },
     "output_type": "display_data"
    }
   ],
   "source": [
    "x = stormsNA1['Season']\n",
    "y = stormsNA1['Wind(WMO)']\n",
    "b, m = polyfit(x,y,1)\n",
    "plt.plot(x,y,'.')\n",
    "#plt.plot(x, b + m * x, '-')\n",
    "plt.ylabel('Wind Speed in Knots')\n",
    "plt.xlabel('Year')\n",
    "plt.title('Storm intensity over the N.Atlantic')"
   ]
  },
  {
   "cell_type": "markdown",
   "metadata": {},
   "source": [
    "Weak positive trend n = 304"
   ]
  },
  {
   "cell_type": "code",
   "execution_count": 700,
   "metadata": {},
   "outputs": [
    {
     "data": {
      "text/plain": [
       "Text(0.5, 1.0, 'Frequency of Tropical Cyclones in the N.Atlantic')"
      ]
     },
     "execution_count": 700,
     "metadata": {},
     "output_type": "execute_result"
    },
    {
     "data": {
      "image/png": "[encoded data removed]",
      "text/plain": [
       "<Figure size 432x288 with 1 Axes>"
      ]
     },
     "metadata": {
      "needs_background": "light"
     },
     "output_type": "display_data"
    }
   ],
   "source": [
    "stormsNA1['Season'].hist(bins=60)\n",
    "plt.ylabel('Storms')\n",
    "plt.xlabel('Year')\n",
    "plt.title('Frequency of Tropical Cyclones in the N.Atlantic')\n"
   ]
  },
  {
   "cell_type": "code",
   "execution_count": 674,
   "metadata": {},
   "outputs": [],
   "source": [
    "stormslat = storms[(storms['Latitude'] >= 25.0) & (storms['Latitude'] <= 30.0)]"
   ]
  },
  {
   "cell_type": "code",
   "execution_count": 675,
   "metadata": {},
   "outputs": [],
   "source": [
    "stormslong = stormslat[(stormslat['Longitude'] >= -97.0) & (stormslat['Longitude'] <= -90.0)]"
   ]
  },
  {
   "cell_type": "code",
   "execution_count": 676,
   "metadata": {},
   "outputs": [],
   "source": [
    "stormsGulf = stormslong[(stormslong['Season'] >= 1969) & (stormslong['Wind(WMO)'] >= 34)]"
   ]
  },
  {
   "cell_type": "markdown",
   "metadata": {},
   "source": [
    "The above cells narrows the geographic window to a portion of the gulf of Mexico with Houston in the top left corner."
   ]
  },
  {
   "cell_type": "code",
   "execution_count": 677,
   "metadata": {},
   "outputs": [
    {
     "data": {
      "text/plain": [
       "(333, 16)"
      ]
     },
     "execution_count": 677,
     "metadata": {},
     "output_type": "execute_result"
    }
   ],
   "source": [
    "stormsGulf.shape"
   ]
  },
  {
   "cell_type": "code",
   "execution_count": 678,
   "metadata": {},
   "outputs": [],
   "source": [
    "stormsGulf1 = stormsGulf.groupby(['Serial_Num']).max()"
   ]
  },
  {
   "cell_type": "code",
   "execution_count": 679,
   "metadata": {},
   "outputs": [
    {
     "data": {
      "text/plain": [
       "(61, 15)"
      ]
     },
     "execution_count": 679,
     "metadata": {},
     "output_type": "execute_result"
    }
   ],
   "source": [
    "stormsGulf1.shape"
   ]
  },
  {
   "cell_type": "code",
   "execution_count": 680,
   "metadata": {},
   "outputs": [
    {
     "data": {
      "text/plain": [
       "Text(0.5, 1.0, 'Storm intensity over the Gulf & Texas')"
      ]
     },
     "execution_count": 680,
     "metadata": {},
     "output_type": "execute_result"
    },
    {
     "data": {
      "image/png": "[encoded data removed]",
      "text/plain": [
       "<Figure size 432x288 with 1 Axes>"
      ]
     },
     "metadata": {
      "needs_background": "light"
     },
     "output_type": "display_data"
    }
   ],
   "source": [
    "x = stormsGulf1['Season']\n",
    "y = stormsGulf1['Wind(WMO)']\n",
    "b, m = polyfit(x,y,1)\n",
    "plt.plot(x,y,'.')\n",
    "#plt.plot(x, b + m * x, '-')\n",
    "plt.ylabel('Wind Speed in Knots')\n",
    "plt.xlabel('Year')\n",
    "plt.title('Storm intensity over the Gulf & Texas')"
   ]
  },
  {
   "cell_type": "markdown",
   "metadata": {},
   "source": [
    "Weak positive trend with n = 80\n"
   ]
  },
  {
   "cell_type": "code",
   "execution_count": 681,
   "metadata": {},
   "outputs": [
    {
     "data": {
      "text/plain": [
       "Text(0.5, 1.0, 'Frequency of Cat 1+ Storms over the Gulf & Texas')"
      ]
     },
     "execution_count": 681,
     "metadata": {},
     "output_type": "execute_result"
    },
    {
     "data": {
      "image/png": "[encoded data removed]",
      "text/plain": [
       "<Figure size 432x288 with 1 Axes>"
      ]
     },
     "metadata": {
      "needs_background": "light"
     },
     "output_type": "display_data"
    }
   ],
   "source": [
    "stormsGulf1['Season'].hist(bins=80)\n",
    "plt.ylabel('Storms')\n",
    "plt.xlabel('Year')\n",
    "plt.title('Frequency of Cat 1+ Storms over the Gulf & Texas')"
   ]
  },
  {
   "cell_type": "code",
   "execution_count": 682,
   "metadata": {},
   "outputs": [
    {
     "data": {
      "text/plain": [
       "28"
      ]
     },
     "execution_count": 682,
     "metadata": {},
     "output_type": "execute_result"
    }
   ],
   "source": [
    "stormsGulf2 = stormsGulf1[(stormsGulf1['Season'] <= 1993)]\n",
    "T1 = np.array(stormsGulf2['Season']).tolist()\n",
    "len(T1)"
   ]
  },
  {
   "cell_type": "code",
   "execution_count": 683,
   "metadata": {},
   "outputs": [
    {
     "data": {
      "text/plain": [
       "33"
      ]
     },
     "execution_count": 683,
     "metadata": {},
     "output_type": "execute_result"
    }
   ],
   "source": [
    "stormsGulf3 = stormsGulf1[(stormsGulf1['Season'] >= 1994)]\n",
    "T2 = np.array(stormsGulf3['Season']).tolist()\n",
    "len(T2)"
   ]
  },
  {
   "cell_type": "code",
   "execution_count": 684,
   "metadata": {},
   "outputs": [
    {
     "data": {
      "text/plain": [
       "1.12"
      ]
     },
     "execution_count": 684,
     "metadata": {},
     "output_type": "execute_result"
    }
   ],
   "source": [
    "T1_dict = {i:T1.count(i) for i in T1}\n",
    "for i in range(1969,1994):\n",
    "    if i not in T1_dict:\n",
    "        T1_dict[i]=0\n",
    "x = T1_dict.values()\n",
    "sum(x)/len(x)"
   ]
  },
  {
   "cell_type": "code",
   "execution_count": 685,
   "metadata": {},
   "outputs": [
    {
     "data": {
      "text/plain": [
       "1.375"
      ]
     },
     "execution_count": 685,
     "metadata": {},
     "output_type": "execute_result"
    }
   ],
   "source": [
    "T2_dict = {i:T2.count(i) for i in T2}\n",
    "for i in range(1994,2018):\n",
    "    if i not in T2_dict:\n",
    "        T2_dict[i]=0\n",
    "x = T2_dict.values()\n",
    "sum(x)/len(x)"
   ]
  },
  {
   "cell_type": "code",
   "execution_count": 686,
   "metadata": {},
   "outputs": [
    {
     "data": {
      "text/plain": [
       "array([1, 2, 2, 1, 1, 2, 1, 3, 3, 1, 2, 2, 1, 1, 3, 1, 1, 0, 0, 0, 0, 0,\n",
       "       0, 0, 0])"
      ]
     },
     "execution_count": 686,
     "metadata": {},
     "output_type": "execute_result"
    }
   ],
   "source": [
    "x = np.asarray(list(T1_dict.values()))\n",
    "x"
   ]
  },
  {
   "cell_type": "code",
   "execution_count": 687,
   "metadata": {},
   "outputs": [
    {
     "data": {
      "text/plain": [
       "array([1, 1, 1, 4, 1, 1, 3, 4, 3, 2, 2, 4, 2, 1, 1, 1, 1, 0, 0, 0, 0, 0,\n",
       "       0, 0])"
      ]
     },
     "execution_count": 687,
     "metadata": {},
     "output_type": "execute_result"
    }
   ],
   "source": [
    "y = np.asarray(list(T2_dict.values()))\n",
    "y"
   ]
  },
  {
   "cell_type": "code",
   "execution_count": 688,
   "metadata": {},
   "outputs": [
    {
     "data": {
      "text/plain": [
       "Ttest_indResult(statistic=-0.7471798853430912, pvalue=0.45904716584028127)"
      ]
     },
     "execution_count": 688,
     "metadata": {},
     "output_type": "execute_result"
    }
   ],
   "source": [
    "\n",
    "stats.ttest_ind(x, y, equal_var = False)"
   ]
  },
  {
   "cell_type": "code",
   "execution_count": 381,
   "metadata": {},
   "outputs": [],
   "source": [
    "#import scipy.stats\n",
    "\n",
    "#np.mean()\n",
    "\n",
    "#np.std()\n",
    "\n",
    "# display pdf function: x = np.linspace(norm.ppf()\n",
    "\n",
    "# ax.plot(x, norm.pdf(x),\n",
    "#        'r-', lw= , alpha= , label='norm pdf')\n",
    "\n",
    "#std_error= (np.std())/(np.sqrt(len()))\n",
    "\n",
    "#def mean_confidence_interval(data, confidence=0.95):\n",
    "#    a = 1.0 * np.array(data)\n",
    "#    n = len(a)\n",
    "#    m, se = np.mean(a), stats.sem(a,ddof=129)\n",
    "#    h = se * stats.t.ppf((1 + confidence) / 2., n-1)\n",
    "#    return m, m-h, m+h"
   ]
  },
  {
   "cell_type": "code",
   "execution_count": null,
   "metadata": {},
   "outputs": [],
   "source": []
  }
 ],
 "metadata": {
  "kernelspec": {
   "display_name": "Python 3",
   "language": "python",
   "name": "python3"
  },
  "language_info": {
   "codemirror_mode": {
    "name": "ipython",
    "version": 3
   },
   "file_extension": ".py",
   "mimetype": "text/x-python",
   "name": "python",
   "nbconvert_exporter": "python",
   "pygments_lexer": "ipython3",
   "version": "3.7.3"
  }
 },
 "nbformat": 4,
 "nbformat_minor": 2
}
