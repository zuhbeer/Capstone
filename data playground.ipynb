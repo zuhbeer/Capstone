{
 "cells": [
  {
   "cell_type": "code",
   "execution_count": 36,
   "metadata": {},
   "outputs": [
    {
     "ename": "ModuleNotFoundError",
     "evalue": "No module named 'mpl_toolkits.basemap'",
     "output_type": "error",
     "traceback": [
      "\u001b[0;31m---------------------------------------------------------------------------\u001b[0m",
      "\u001b[0;31mModuleNotFoundError\u001b[0m                       Traceback (most recent call last)",
      "\u001b[0;32m<ipython-input-36-c0e68e0e9e07>\u001b[0m in \u001b[0;36m<module>\u001b[0;34m\u001b[0m\n\u001b[1;32m      4\u001b[0m \u001b[0mget_ipython\u001b[0m\u001b[0;34m(\u001b[0m\u001b[0;34m)\u001b[0m\u001b[0;34m.\u001b[0m\u001b[0mrun_line_magic\u001b[0m\u001b[0;34m(\u001b[0m\u001b[0;34m'matplotlib'\u001b[0m\u001b[0;34m,\u001b[0m \u001b[0;34m'inline'\u001b[0m\u001b[0;34m)\u001b[0m\u001b[0;34m\u001b[0m\u001b[0;34m\u001b[0m\u001b[0m\n\u001b[1;32m      5\u001b[0m \u001b[0;32mimport\u001b[0m \u001b[0mpandas\u001b[0m \u001b[0;32mas\u001b[0m \u001b[0mpd\u001b[0m\u001b[0;34m\u001b[0m\u001b[0;34m\u001b[0m\u001b[0m\n\u001b[0;32m----> 6\u001b[0;31m \u001b[0;32mfrom\u001b[0m \u001b[0mmpl_toolkits\u001b[0m\u001b[0;34m.\u001b[0m\u001b[0mbasemap\u001b[0m \u001b[0;32mimport\u001b[0m \u001b[0mBasemap\u001b[0m\u001b[0;34m\u001b[0m\u001b[0;34m\u001b[0m\u001b[0m\n\u001b[0m",
      "\u001b[0;31mModuleNotFoundError\u001b[0m: No module named 'mpl_toolkits.basemap'"
     ]
    }
   ],
   "source": [
    "import scipy.stats as stats\n",
    "import numpy as np\n",
    "import matplotlib.pyplot as plt\n",
    "%matplotlib inline\n",
    "import pandas as pd\n",
    "from mpl_toolkits.basemap import Basemap"
   ]
  },
  {
   "cell_type": "code",
   "execution_count": 3,
   "metadata": {},
   "outputs": [],
   "source": [
    "NumD = ([7,5,5,13,4,2,3,3,13,4,23,59,9,84,5,103])\n",
    "Year = ([1980,1981,1981,1983,1986,1989,1989,1989,1998,1999,2001,2005,2007,2008,2010,2017])"
   ]
  },
  {
   "cell_type": "markdown",
   "metadata": {},
   "source": [
    "https://www.wpc.ncep.noaa.gov/research/txhur.pdf\n",
    "https://en.wikipedia.org/wiki/List_of_Texas_hurricanes_(1980%E2%80%93present)"
   ]
  },
  {
   "cell_type": "code",
   "execution_count": 4,
   "metadata": {},
   "outputs": [
    {
     "data": {
      "text/plain": [
       "Text(0.5, 1.0, 'Known Deaths From Tropical Storms in Texas')"
      ]
     },
     "execution_count": 4,
     "metadata": {},
     "output_type": "execute_result"
    },
    {
     "data": {
      "image/png": "[encoded data removed]",
      "text/plain": [
       "<Figure size 432x288 with 1 Axes>"
      ]
     },
     "metadata": {
      "needs_background": "light"
     },
     "output_type": "display_data"
    }
   ],
   "source": [
    "plt.plot(Year,NumD)\n",
    "plt.ylabel('Deaths')\n",
    "plt.xlabel('Year')\n",
    "plt.title('Known Deaths From Tropical Storms in Texas')"
   ]
  },
  {
   "cell_type": "code",
   "execution_count": 15,
   "metadata": {},
   "outputs": [],
   "source": [
    "data=pd.read_csv('Basin.NA.ibtracs_wmo.v03r10.csv')"
   ]
  },
  {
   "cell_type": "code",
   "execution_count": 16,
   "metadata": {},
   "outputs": [],
   "source": [
    "storms = pd.DataFrame(data)"
   ]
  },
  {
   "cell_type": "code",
   "execution_count": 24,
   "metadata": {},
   "outputs": [
    {
     "data": {
      "text/html": [
       "<div>\n",
       "<style scoped>\n",
       "    .dataframe tbody tr th:only-of-type {\n",
       "        vertical-align: middle;\n",
       "    }\n",
       "\n",
       "    .dataframe tbody tr th {\n",
       "        vertical-align: top;\n",
       "    }\n",
       "\n",
       "    .dataframe thead th {\n",
       "        text-align: right;\n",
       "    }\n",
       "</style>\n",
       "<table border=\"1\" class=\"dataframe\">\n",
       "  <thead>\n",
       "    <tr style=\"text-align: right;\">\n",
       "      <th></th>\n",
       "      <th>Serial_Num</th>\n",
       "      <th>Season</th>\n",
       "      <th>Num</th>\n",
       "      <th>Basin</th>\n",
       "      <th>Sub_basin</th>\n",
       "      <th>Name</th>\n",
       "      <th>ISO_time</th>\n",
       "      <th>Nature</th>\n",
       "      <th>Latitude</th>\n",
       "      <th>Longitude</th>\n",
       "      <th>Wind(WMO)</th>\n",
       "      <th>Pres(WMO)</th>\n",
       "      <th>Center</th>\n",
       "      <th>Wind(WMO) Percentile</th>\n",
       "      <th>Pres(WMO) Percentile</th>\n",
       "      <th>Track_type</th>\n",
       "    </tr>\n",
       "  </thead>\n",
       "  <tbody>\n",
       "    <tr>\n",
       "      <th>0</th>\n",
       "      <td>1851175N26270</td>\n",
       "      <td>1851</td>\n",
       "      <td>1</td>\n",
       "      <td>NA</td>\n",
       "      <td>GM</td>\n",
       "      <td>UNNAMED</td>\n",
       "      <td>1851-06-25 00:00:00</td>\n",
       "      <td>TS</td>\n",
       "      <td>28.0</td>\n",
       "      <td>-94.8</td>\n",
       "      <td>80.0</td>\n",
       "      <td>0.0</td>\n",
       "      <td>atcf</td>\n",
       "      <td>85.15</td>\n",
       "      <td>-100.0</td>\n",
       "      <td>main</td>\n",
       "    </tr>\n",
       "    <tr>\n",
       "      <th>1</th>\n",
       "      <td>1851175N26270</td>\n",
       "      <td>1851</td>\n",
       "      <td>1</td>\n",
       "      <td>NA</td>\n",
       "      <td>GM</td>\n",
       "      <td>UNNAMED</td>\n",
       "      <td>1851-06-25 06:00:00</td>\n",
       "      <td>TS</td>\n",
       "      <td>28.0</td>\n",
       "      <td>-95.4</td>\n",
       "      <td>80.0</td>\n",
       "      <td>0.0</td>\n",
       "      <td>atcf</td>\n",
       "      <td>85.15</td>\n",
       "      <td>-100.0</td>\n",
       "      <td>main</td>\n",
       "    </tr>\n",
       "    <tr>\n",
       "      <th>2</th>\n",
       "      <td>1851175N26270</td>\n",
       "      <td>1851</td>\n",
       "      <td>1</td>\n",
       "      <td>NA</td>\n",
       "      <td>GM</td>\n",
       "      <td>UNNAMED</td>\n",
       "      <td>1851-06-25 12:00:00</td>\n",
       "      <td>TS</td>\n",
       "      <td>28.0</td>\n",
       "      <td>-96.0</td>\n",
       "      <td>80.0</td>\n",
       "      <td>0.0</td>\n",
       "      <td>atcf</td>\n",
       "      <td>85.15</td>\n",
       "      <td>-100.0</td>\n",
       "      <td>main</td>\n",
       "    </tr>\n",
       "    <tr>\n",
       "      <th>3</th>\n",
       "      <td>1851175N26270</td>\n",
       "      <td>1851</td>\n",
       "      <td>1</td>\n",
       "      <td>NA</td>\n",
       "      <td>GM</td>\n",
       "      <td>UNNAMED</td>\n",
       "      <td>1851-06-25 18:00:00</td>\n",
       "      <td>TS</td>\n",
       "      <td>28.1</td>\n",
       "      <td>-96.5</td>\n",
       "      <td>80.0</td>\n",
       "      <td>0.0</td>\n",
       "      <td>atcf</td>\n",
       "      <td>85.15</td>\n",
       "      <td>-100.0</td>\n",
       "      <td>main</td>\n",
       "    </tr>\n",
       "    <tr>\n",
       "      <th>4</th>\n",
       "      <td>1851175N26270</td>\n",
       "      <td>1851</td>\n",
       "      <td>1</td>\n",
       "      <td>NA</td>\n",
       "      <td>GM</td>\n",
       "      <td>UNNAMED</td>\n",
       "      <td>1851-06-25 21:00:00</td>\n",
       "      <td>TS</td>\n",
       "      <td>28.2</td>\n",
       "      <td>-96.8</td>\n",
       "      <td>80.0</td>\n",
       "      <td>0.0</td>\n",
       "      <td>atcf</td>\n",
       "      <td>85.15</td>\n",
       "      <td>-100.0</td>\n",
       "      <td>main</td>\n",
       "    </tr>\n",
       "  </tbody>\n",
       "</table>\n",
       "</div>"
      ],
      "text/plain": [
       "      Serial_Num  Season  Num Basin Sub_basin     Name             ISO_time  \\\n",
       "0  1851175N26270    1851    1    NA        GM  UNNAMED  1851-06-25 00:00:00   \n",
       "1  1851175N26270    1851    1    NA        GM  UNNAMED  1851-06-25 06:00:00   \n",
       "2  1851175N26270    1851    1    NA        GM  UNNAMED  1851-06-25 12:00:00   \n",
       "3  1851175N26270    1851    1    NA        GM  UNNAMED  1851-06-25 18:00:00   \n",
       "4  1851175N26270    1851    1    NA        GM  UNNAMED  1851-06-25 21:00:00   \n",
       "\n",
       "  Nature  Latitude  Longitude  Wind(WMO)  Pres(WMO) Center  \\\n",
       "0     TS      28.0      -94.8       80.0        0.0   atcf   \n",
       "1     TS      28.0      -95.4       80.0        0.0   atcf   \n",
       "2     TS      28.0      -96.0       80.0        0.0   atcf   \n",
       "3     TS      28.1      -96.5       80.0        0.0   atcf   \n",
       "4     TS      28.2      -96.8       80.0        0.0   atcf   \n",
       "\n",
       "   Wind(WMO) Percentile  Pres(WMO) Percentile Track_type  \n",
       "0                 85.15                -100.0       main  \n",
       "1                 85.15                -100.0       main  \n",
       "2                 85.15                -100.0       main  \n",
       "3                 85.15                -100.0       main  \n",
       "4                 85.15                -100.0       main  "
      ]
     },
     "execution_count": 24,
     "metadata": {},
     "output_type": "execute_result"
    }
   ],
   "source": [
    "storms.head()"
   ]
  },
  {
   "cell_type": "code",
   "execution_count": 70,
   "metadata": {},
   "outputs": [
    {
     "name": "stdout",
     "output_type": "stream",
     "text": [
      "Serial_Num\n",
      "Season\n",
      "Num\n",
      "Basin\n",
      "Sub_basin\n",
      "Name\n",
      "ISO_time\n",
      "Nature\n",
      "Latitude\n",
      "Longitude\n",
      "Wind(WMO)\n",
      "Pres(WMO)\n",
      "Center\n",
      "Wind(WMO) Percentile\n",
      "Pres(WMO) Percentile\n",
      "Track_type\n"
     ]
    }
   ],
   "source": [
    "for col in storms.columns:\n",
    "    print(col)\n"
   ]
  },
  {
   "cell_type": "code",
   "execution_count": 83,
   "metadata": {},
   "outputs": [],
   "source": [
    "storms1 = storms[(storms['Latitude'] >= 25.0) & (storms['Latitude'] <= 32.0)]"
   ]
  },
  {
   "cell_type": "code",
   "execution_count": 84,
   "metadata": {},
   "outputs": [],
   "source": [
    "storms2 = storms1[(storms1['Longitude'] >= -98.0) & (storms1['Longitude'] <= -90.0)]"
   ]
  },
  {
   "cell_type": "code",
   "execution_count": 152,
   "metadata": {},
   "outputs": [],
   "source": [
    "storms3 = storms[(storms['Season'] >= 1900) & (storms['Wind(WMO)'] >= 64)]"
   ]
  },
  {
   "cell_type": "code",
   "execution_count": 153,
   "metadata": {},
   "outputs": [
    {
     "data": {
      "text/plain": [
       "(10707, 16)"
      ]
     },
     "execution_count": 153,
     "metadata": {},
     "output_type": "execute_result"
    }
   ],
   "source": [
    "storms3.shape"
   ]
  },
  {
   "cell_type": "code",
   "execution_count": 166,
   "metadata": {},
   "outputs": [],
   "source": [
    "storms4 = storms3.groupby(['Serial_Num']).max()"
   ]
  },
  {
   "cell_type": "code",
   "execution_count": 167,
   "metadata": {},
   "outputs": [
    {
     "data": {
      "text/plain": [
       "(653, 15)"
      ]
     },
     "execution_count": 167,
     "metadata": {},
     "output_type": "execute_result"
    }
   ],
   "source": [
    "storms4.shape"
   ]
  },
  {
   "cell_type": "code",
   "execution_count": 169,
   "metadata": {},
   "outputs": [
    {
     "data": {
      "text/plain": [
       "Text(0.5, 1.0, 'Cat 1+ Storm intensity over Time')"
      ]
     },
     "execution_count": 169,
     "metadata": {},
     "output_type": "execute_result"
    },
    {
     "data": {
      "image/png": "[encoded data removed]",
      "text/plain": [
       "<Figure size 432x288 with 1 Axes>"
      ]
     },
     "metadata": {
      "needs_background": "light"
     },
     "output_type": "display_data"
    }
   ],
   "source": [
    "plt.plot(storms4['Season'],storms4['Wind(WMO)'])\n",
    "plt.ylabel('Wind Speed in Knots')\n",
    "plt.xlabel('Year')\n",
    "plt.title('Cat 1+ Storm intensity over Time')"
   ]
  },
  {
   "cell_type": "code",
   "execution_count": 170,
   "metadata": {},
   "outputs": [
    {
     "data": {
      "text/plain": [
       "Text(0.5, 1.0, 'Frequency of Cat 1+ Storms in the N.Atlantic')"
      ]
     },
     "execution_count": 170,
     "metadata": {},
     "output_type": "execute_result"
    },
    {
     "data": {
      "image/png": "[encoded data removed]",
      "text/plain": [
       "<Figure size 432x288 with 1 Axes>"
      ]
     },
     "metadata": {
      "needs_background": "light"
     },
     "output_type": "display_data"
    }
   ],
   "source": [
    "storms4['Season'].hist(bins=50)\n",
    "plt.ylabel('Storms')\n",
    "plt.xlabel('Year')\n",
    "plt.title('Frequency of Cat 1+ Storms in the N.Atlantic')\n"
   ]
  },
  {
   "cell_type": "code",
   "execution_count": null,
   "metadata": {},
   "outputs": [],
   "source": []
  }
 ],
 "metadata": {
  "kernelspec": {
   "display_name": "Python 3",
   "language": "python",
   "name": "python3"
  },
  "language_info": {
   "codemirror_mode": {
    "name": "ipython",
    "version": 3
   },
   "file_extension": ".py",
   "mimetype": "text/x-python",
   "name": "python",
   "nbconvert_exporter": "python",
   "pygments_lexer": "ipython3",
   "version": "3.7.3"
  }
 },
 "nbformat": 4,
 "nbformat_minor": 2
}
